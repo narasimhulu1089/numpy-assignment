{
 "cells": [
  {
   "cell_type": "markdown",
   "metadata": {},
   "source": [
    "<b>Write a function so that the columns of the output matrix are powers of the input\n",
    "vector.\n",
    "The order of the powers is determined by the increasing boolean argument. Specifically, when\n",
    "increasing is False, the i-th output column is the input vector raised element-wise to the power\n",
    "of N - i - 1.\n",
    "\n",
    "HINT: Such a matrix with a geometric progression in each row is named for Alexandre-\n",
    "Theophile Vandermonde.</b>"
   ]
  },
  {
   "cell_type": "code",
   "execution_count": 4,
   "metadata": {},
   "outputs": [
    {
     "name": "stdout",
     "output_type": "stream",
     "text": [
      "Enter a list :[1,2,3,4,5,6]\n",
      "Enter number of columns :3\n"
     ]
    },
    {
     "data": {
      "text/plain": [
       "array([[ 1,  1,  1],\n",
       "       [ 4,  2,  1],\n",
       "       [ 9,  3,  1],\n",
       "       [16,  4,  1],\n",
       "       [25,  5,  1],\n",
       "       [36,  6,  1]])"
      ]
     },
     "execution_count": 4,
     "metadata": {},
     "output_type": "execute_result"
    }
   ],
   "source": [
    "import numpy as np\n",
    "list=eval(input(\"Enter a list :\"))\n",
    "N=int(input(\"Enter number of columns :\"))\n",
    "def Vander(l,n):\n",
    "    arr=np.array(l)#Converting a list to array\n",
    "    return np.vander(arr,n,increasing=False)# When increasing order is False\n",
    "\n",
    "Vander(list,N)# Calling the function"
   ]
  },
  {
   "cell_type": "code",
   "execution_count": 5,
   "metadata": {},
   "outputs": [
    {
     "name": "stdout",
     "output_type": "stream",
     "text": [
      "Enter a list :[1,2,3,4,5,6,7,8,9,10]\n",
      "Enter number of columns :5\n"
     ]
    },
    {
     "data": {
      "text/plain": [
       "array([[    1,     1,     1,     1,     1],\n",
       "       [    1,     2,     4,     8,    16],\n",
       "       [    1,     3,     9,    27,    81],\n",
       "       [    1,     4,    16,    64,   256],\n",
       "       [    1,     5,    25,   125,   625],\n",
       "       [    1,     6,    36,   216,  1296],\n",
       "       [    1,     7,    49,   343,  2401],\n",
       "       [    1,     8,    64,   512,  4096],\n",
       "       [    1,     9,    81,   729,  6561],\n",
       "       [    1,    10,   100,  1000, 10000]])"
      ]
     },
     "execution_count": 5,
     "metadata": {},
     "output_type": "execute_result"
    }
   ],
   "source": [
    "import numpy as np\n",
    "list=eval(input(\"Enter a list :\"))\n",
    "N=int(input(\"Enter number of columns :\"))\n",
    "def Vander(l,n):\n",
    "    arr=np.array(l)#Converting a list to array\n",
    "    return np.vander(arr,n,increasing=True)#When Increasing order is True\n",
    "\n",
    "Vander(list,N)# Calling the function"
   ]
  },
  {
   "cell_type": "markdown",
   "metadata": {},
   "source": [
    "### Alternative method"
   ]
  },
  {
   "cell_type": "code",
   "execution_count": 10,
   "metadata": {},
   "outputs": [
    {
     "name": "stdout",
     "output_type": "stream",
     "text": [
      "Enter a list :[1,2,3,4,5]\n",
      "Enter number of columns :3\n"
     ]
    },
    {
     "data": {
      "text/plain": [
       "array([[ 1,  1,  1],\n",
       "       [ 4,  2,  1],\n",
       "       [ 9,  3,  1],\n",
       "       [16,  4,  1],\n",
       "       [25,  5,  1]], dtype=int32)"
      ]
     },
     "execution_count": 10,
     "metadata": {},
     "output_type": "execute_result"
    }
   ],
   "source": [
    "list=eval(input(\"Enter a list :\"))\n",
    "N=int(input(\"Enter number of columns :\"))\n",
    "def Vander(l,n):\n",
    "    arr=np.array(l)#Converting a list to array\n",
    "    return np.column_stack([arr**(N-1-i) for i in range(N)])\n",
    "\n",
    "Vander(list,N)# Calling the function\n",
    "\n"
   ]
  },
  {
   "cell_type": "markdown",
   "metadata": {},
   "source": [
    "<b>Task2:Write a function to find moving average in an array over a window:\n",
    "Test it over [3, 5, 7, 2, 8, 10, 11, 65, 72, 81, 99, 100, 150] and window of 3.</b>"
   ]
  },
  {
   "cell_type": "code",
   "execution_count": null,
   "metadata": {},
   "outputs": [],
   "source": [
    "Given a sequence of n values x1, x2, ..., xn and a window size k>0, the k-th moving average of\n",
    "the given sequence is defined as follows:\n",
    "The moving average sequence has n-k+1 elements as shown below.\n",
    "The moving averages with k=4 of a ten-value sequence (n=10) is shown below\n",
    "\n",
    "i 1 2 3 4 5 6 7 8 9 10\n",
    "===== == == == == == == == == == ==\n",
    "Input 10 20 30 40 50 60 70 80 90 100\n",
    "y1 25 = (10+20+30+40)/4\n",
    "y2 35 = (20+30+40+50)/4\n",
    "y3 45 = (30+40+50+60)/4\n",
    "y4 55 = (40+50+60+70)/4\n",
    "y5 65 = (50+60+70+80)/4\n",
    "y6 75 = (60+70+80+90)/4\n",
    "y7 85 = (70+80+90+100)/4\n",
    "Thus, the moving average sequence has n-k+1=10-4+1=7 values."
   ]
  },
  {
   "cell_type": "code",
   "execution_count": 61,
   "metadata": {},
   "outputs": [
    {
     "name": "stdout",
     "output_type": "stream",
     "text": [
      "Enter a sequence(list or tuple) :[10,20,30,40,50,60,70,80,90,100]\n",
      "Enter Window size :4\n",
      "The Moving Avg is : [25, 35, 45, 55, 65, 75, 85]\n"
     ]
    }
   ],
   "source": [
    "Sequence=eval(input(\"Enter a sequence(list or tuple) :\"))\n",
    "Window_size=int(input(\"Enter Window size :\"))\n",
    "Moving_avg_list=[]\n",
    "def moving_avg(sequence,windowsize):\n",
    "    i=1\n",
    "    \n",
    "    while i<=len(sequence)-windowsize+1 :\n",
    "        mov_avg=0\n",
    "        cnt=0\n",
    "        for j in range(i-1,len(sequence)):\n",
    "            cnt=cnt+1\n",
    "            if cnt==windowsize+1:\n",
    "                break\n",
    "            else:\n",
    "                mov_avg=mov_avg+(sequence[j])\n",
    "        result=int(mov_avg/windowsize)\n",
    "        Moving_avg_list.append(result)\n",
    "        i=i+1\n",
    "    print(\"The Moving Avg is :\",Moving_avg_list)\n",
    "            \n",
    "moving_avg(Sequence,Window_size)\n",
    "\n",
    "    "
   ]
  },
  {
   "cell_type": "markdown",
   "metadata": {},
   "source": [
    "### Testing with [3, 5, 7, 2, 8, 10, 11, 65, 72, 81, 99, 100, 150] and size=3"
   ]
  },
  {
   "cell_type": "code",
   "execution_count": 62,
   "metadata": {},
   "outputs": [
    {
     "name": "stdout",
     "output_type": "stream",
     "text": [
      "Enter a sequence(list or tuple) :[3, 5, 7, 2, 8, 10, 11, 65, 72, 81, 99, 100, 150]\n",
      "Enter Window size :3\n",
      "The Moving Avg is : [5, 4, 5, 6, 9, 28, 49, 72, 84, 93, 116]\n"
     ]
    }
   ],
   "source": [
    "Sequence=eval(input(\"Enter a sequence(list or tuple) :\"))\n",
    "Window_size=int(input(\"Enter Window size :\"))\n",
    "Moving_avg_list=[]\n",
    "def moving_avg(sequence,windowsize):\n",
    "    i=1\n",
    "    \n",
    "    while i<=len(sequence)-windowsize+1 :\n",
    "        mov_avg=0\n",
    "        cnt=0\n",
    "        for j in range(i-1,len(sequence)):\n",
    "            cnt=cnt+1\n",
    "            if cnt==windowsize+1:\n",
    "                break\n",
    "            else:\n",
    "                mov_avg=mov_avg+(sequence[j])\n",
    "        result=int(mov_avg/windowsize)\n",
    "        Moving_avg_list.append(result)\n",
    "        i=i+1\n",
    "    print(\"The Moving Avg is :\",Moving_avg_list)\n",
    "            \n",
    "moving_avg(Sequence,Window_size)\n",
    "\n",
    "    "
   ]
  }
 ],
 "metadata": {
  "kernelspec": {
   "display_name": "Python 3",
   "language": "python",
   "name": "python3"
  },
  "language_info": {
   "codemirror_mode": {
    "name": "ipython",
    "version": 3
   },
   "file_extension": ".py",
   "mimetype": "text/x-python",
   "name": "python",
   "nbconvert_exporter": "python",
   "pygments_lexer": "ipython3",
   "version": "3.7.3"
  }
 },
 "nbformat": 4,
 "nbformat_minor": 2
}
